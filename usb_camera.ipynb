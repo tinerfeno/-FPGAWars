{
  "nbformat": 4,
  "nbformat_minor": 0,
  "metadata": {
    "kernelspec": {
      "display_name": "Python 3",
      "language": "python",
      "name": "python3"
    },
    "language_info": {
      "codemirror_mode": {
        "name": "ipython",
        "version": 3
      },
      "file_extension": ".py",
      "mimetype": "text/x-python",
      "name": "python",
      "nbconvert_exporter": "python",
      "pygments_lexer": "ipython3",
      "version": "3.7.3"
    },
    "colab": {
      "name": "usb_camera.ipynb",
      "version": "0.3.2",
      "provenance": [],
      "include_colab_link": true
    }
  },
  "cells": [
    {
      "cell_type": "markdown",
      "metadata": {
        "id": "view-in-github",
        "colab_type": "text"
      },
      "source": [
        "<a href=\"https://colab.research.google.com/github/tinerfeno/-FPGAWars/blob/master/usb_camera.ipynb\" target=\"_parent\"><img src=\"https://colab.research.google.com/assets/colab-badge.svg\" alt=\"Open In Colab\"/></a>"
      ]
    },
    {
      "cell_type": "markdown",
      "metadata": {
        "id": "P0ZL-3Lbl02O",
        "colab_type": "text"
      },
      "source": [
        "<center><img src=\"../images/DLI Header.png\" alt=\"Header\" style=\"width: 400px;\"/></center>"
      ]
    },
    {
      "cell_type": "markdown",
      "metadata": {
        "id": "0mxZR38Tl02Q",
        "colab_type": "text"
      },
      "source": [
        "# Hello Camera\n",
        "### WebCam (USB) Cameras"
      ]
    },
    {
      "cell_type": "markdown",
      "metadata": {
        "id": "qRTjjPnZl02R",
        "colab_type": "text"
      },
      "source": [
        "In this notebook, you can test your camera to make sure it's working on the Jetson Nano as expected.  It should already be plugged into the USB camera port.  Make sure there is no obstruction on the camera lens such as a film or cover."
      ]
    },
    {
      "cell_type": "markdown",
      "metadata": {
        "id": "FWCQvabMl02T",
        "colab_type": "text"
      },
      "source": [
        "<center><img src=\"../images/usbcam_setup_sm.jpg\" width=600/></center>"
      ]
    },
    {
      "cell_type": "markdown",
      "metadata": {
        "id": "ZPJ8RPm5l02U",
        "colab_type": "text"
      },
      "source": [
        "<div style=\"border:2px solid black; background-color:#e3ffb3; font-size:12px; padding:8px; margin-top: auto;\"><i>\n",
        "    <h4><i>Tip</i></h4>\n",
        "To execute the Python or system code in the code cells, select the cell and click the \"Run\" button at the top of the window.<br>Keyboard shortcut: <strong>[SHIFT][ENTER]</strong>\n",
        "    </i></div>"
      ]
    },
    {
      "cell_type": "markdown",
      "metadata": {
        "id": "bKcMjgCwl02V",
        "colab_type": "text"
      },
      "source": [
        "### Check to see if the device is available\n",
        "Execute the following system command to list all video devices on the Jetson Nano.  If your camera doesn't show up with a device id, check your connection.  You should get an output similar to \n",
        "```text\n",
        "crw-rw----+ 1 root video 81, 0 Jun  2 17:35 /dev/video0\n",
        "```"
      ]
    },
    {
      "cell_type": "code",
      "metadata": {
        "id": "Ia9wADfVl02X",
        "colab_type": "code",
        "colab": {},
        "outputId": "274378b2-731b-48fd-c8a0-f6382f25428c"
      },
      "source": [
        "!ls -ltrh /dev/video*"
      ],
      "execution_count": 0,
      "outputs": [
        {
          "output_type": "stream",
          "text": [
            "\"ls\" no se reconoce como un comando interno o externo,\n",
            "programa o archivo por lotes ejecutable.\n"
          ],
          "name": "stderr"
        }
      ]
    },
    {
      "cell_type": "markdown",
      "metadata": {
        "id": "jYDQW4Yyl02c",
        "colab_type": "text"
      },
      "source": [
        "### Create the camera object\n",
        "\n",
        "First, create a camera object by importing the `USBCamera` class from the library by executing the following Python code cell.  Please note, you can only create one `USBCamera` instance. Set the `capture_device=` to the correct number found when you listed the system video devices.  If you have `/dev/video0`, then set `capture_device=0`.  If you have `/dev/video1`, set `capture_device=1` in the code line below."
      ]
    },
    {
      "cell_type": "code",
      "metadata": {
        "id": "S7F7injCl02e",
        "colab_type": "code",
        "colab": {},
        "outputId": "06a2cf0c-0ad7-456a-dd65-f915b8df21e6"
      },
      "source": [
        "from jetcam.usb_camera import USBCamera\n",
        "\n",
        "#TODO change capture_device if incorrect for your system\n",
        "camera = USBCamera(width=224, height=224, capture_width=640, capture_height=480, capture_device=0)"
      ],
      "execution_count": 0,
      "outputs": [
        {
          "output_type": "error",
          "ename": "RuntimeError",
          "evalue": "Could not initialize camera.  Please see error trace.",
          "traceback": [
            "\u001b[1;31m---------------------------------------------------------------------------\u001b[0m",
            "\u001b[1;31mRuntimeError\u001b[0m                              Traceback (most recent call last)",
            "\u001b[1;32m~\\Desktop\\dlinano\\nvdli-nano\\hello_camera\\jetcam\\usb_camera.py\u001b[0m in \u001b[0;36m__init__\u001b[1;34m(self, *args, **kwargs)\u001b[0m\n\u001b[0;32m     23\u001b[0m             \u001b[1;32mif\u001b[0m \u001b[1;32mnot\u001b[0m \u001b[0mre\u001b[0m\u001b[1;33m:\u001b[0m\u001b[1;33m\u001b[0m\u001b[1;33m\u001b[0m\u001b[0m\n\u001b[1;32m---> 24\u001b[1;33m                 \u001b[1;32mraise\u001b[0m \u001b[0mRuntimeError\u001b[0m\u001b[1;33m(\u001b[0m\u001b[1;34m'Could not read image from camera.'\u001b[0m\u001b[1;33m)\u001b[0m\u001b[1;33m\u001b[0m\u001b[1;33m\u001b[0m\u001b[0m\n\u001b[0m\u001b[0;32m     25\u001b[0m \u001b[1;33m\u001b[0m\u001b[0m\n",
            "\u001b[1;31mRuntimeError\u001b[0m: Could not read image from camera.",
            "\nDuring handling of the above exception, another exception occurred:\n",
            "\u001b[1;31mRuntimeError\u001b[0m                              Traceback (most recent call last)",
            "\u001b[1;32m<ipython-input-4-5a6744da9a88>\u001b[0m in \u001b[0;36m<module>\u001b[1;34m\u001b[0m\n\u001b[0;32m      2\u001b[0m \u001b[1;33m\u001b[0m\u001b[0m\n\u001b[0;32m      3\u001b[0m \u001b[1;31m#TODO change capture_device if incorrect for your system\u001b[0m\u001b[1;33m\u001b[0m\u001b[1;33m\u001b[0m\u001b[1;33m\u001b[0m\u001b[0m\n\u001b[1;32m----> 4\u001b[1;33m \u001b[0mcamera\u001b[0m \u001b[1;33m=\u001b[0m \u001b[0mUSBCamera\u001b[0m\u001b[1;33m(\u001b[0m\u001b[0mwidth\u001b[0m\u001b[1;33m=\u001b[0m\u001b[1;36m224\u001b[0m\u001b[1;33m,\u001b[0m \u001b[0mheight\u001b[0m\u001b[1;33m=\u001b[0m\u001b[1;36m224\u001b[0m\u001b[1;33m,\u001b[0m \u001b[0mcapture_width\u001b[0m\u001b[1;33m=\u001b[0m\u001b[1;36m640\u001b[0m\u001b[1;33m,\u001b[0m \u001b[0mcapture_height\u001b[0m\u001b[1;33m=\u001b[0m\u001b[1;36m480\u001b[0m\u001b[1;33m,\u001b[0m \u001b[0mcapture_device\u001b[0m\u001b[1;33m=\u001b[0m\u001b[1;36m0\u001b[0m\u001b[1;33m)\u001b[0m\u001b[1;33m\u001b[0m\u001b[1;33m\u001b[0m\u001b[0m\n\u001b[0m",
            "\u001b[1;32m~\\Desktop\\dlinano\\nvdli-nano\\hello_camera\\jetcam\\usb_camera.py\u001b[0m in \u001b[0;36m__init__\u001b[1;34m(self, *args, **kwargs)\u001b[0m\n\u001b[0;32m     26\u001b[0m         \u001b[1;32mexcept\u001b[0m\u001b[1;33m:\u001b[0m\u001b[1;33m\u001b[0m\u001b[1;33m\u001b[0m\u001b[0m\n\u001b[0;32m     27\u001b[0m             raise RuntimeError(\n\u001b[1;32m---> 28\u001b[1;33m                 'Could not initialize camera.  Please see error trace.')\n\u001b[0m\u001b[0;32m     29\u001b[0m \u001b[1;33m\u001b[0m\u001b[0m\n\u001b[0;32m     30\u001b[0m         \u001b[0matexit\u001b[0m\u001b[1;33m.\u001b[0m\u001b[0mregister\u001b[0m\u001b[1;33m(\u001b[0m\u001b[0mself\u001b[0m\u001b[1;33m.\u001b[0m\u001b[0mcap\u001b[0m\u001b[1;33m.\u001b[0m\u001b[0mrelease\u001b[0m\u001b[1;33m)\u001b[0m\u001b[1;33m\u001b[0m\u001b[1;33m\u001b[0m\u001b[0m\n",
            "\u001b[1;31mRuntimeError\u001b[0m: Could not initialize camera.  Please see error trace."
          ]
        }
      ]
    },
    {
      "cell_type": "markdown",
      "metadata": {
        "id": "s8yqx8RUl02h",
        "colab_type": "text"
      },
      "source": [
        "We can then capture a frame from the camera with the `read` method. "
      ]
    },
    {
      "cell_type": "code",
      "metadata": {
        "id": "NKpPdM0ml02i",
        "colab_type": "code",
        "colab": {}
      },
      "source": [
        "image = camera.read()\n",
        "\n",
        "print(image.shape)"
      ],
      "execution_count": 0,
      "outputs": []
    },
    {
      "cell_type": "markdown",
      "metadata": {
        "id": "W0G8E0jel02l",
        "colab_type": "text"
      },
      "source": [
        "Calling the `read` method for `camera` also updates the camera's internal `value`.  By looking at the value's `shape`, we see three numbers representing the pixel height, pixel width, and number of color channels."
      ]
    },
    {
      "cell_type": "code",
      "metadata": {
        "id": "UeKrKwdyl02m",
        "colab_type": "code",
        "colab": {}
      },
      "source": [
        "print(camera.value.shape)"
      ],
      "execution_count": 0,
      "outputs": []
    },
    {
      "cell_type": "markdown",
      "metadata": {
        "id": "oGmUgYt2l02p",
        "colab_type": "text"
      },
      "source": [
        "### Create a widget to view the image stream\n",
        "We can create a \"widget\" to display this image in the notebook.  In order to see the image, convert it from its blue-green-red format (brg8) to a format the browser can display (jpeg). "
      ]
    },
    {
      "cell_type": "code",
      "metadata": {
        "id": "UEHqR0b4l02q",
        "colab_type": "code",
        "colab": {}
      },
      "source": [
        "import ipywidgets\n",
        "from IPython.display import display\n",
        "from jetcam.utils import bgr8_to_jpeg\n",
        "\n",
        "image_widget = ipywidgets.Image(format='jpeg')\n",
        "\n",
        "image_widget.value = bgr8_to_jpeg(image)\n",
        "\n",
        "display(image_widget)"
      ],
      "execution_count": 0,
      "outputs": []
    },
    {
      "cell_type": "markdown",
      "metadata": {
        "id": "ZbTna6UMl02t",
        "colab_type": "text"
      },
      "source": [
        "You should see an image from the camera if all is working correctly.  If there seems to be an image but it's fuzzy or a funny color, check to make sure there is no protective film or cap on the lens.  \n",
        "\n",
        "Now let's watch a live stream from the camera.  Set the `running` value of the camera to continuously update the value in background.  This allows you to attach \"callbacks\" to the camera value changes.\n",
        "\n",
        "The \"callback\" here is the function, `update_image`, which is attached by calling the `observe` method below.  `update_image` is executed whenever there is a new image available to process, which is then displayed in the widget."
      ]
    },
    {
      "cell_type": "code",
      "metadata": {
        "id": "EhxdYQlWl02u",
        "colab_type": "code",
        "colab": {}
      },
      "source": [
        "camera.running = True\n",
        "\n",
        "def update_image(change):\n",
        "    image = change['new']\n",
        "    image_widget.value = bgr8_to_jpeg(image)\n",
        "    \n",
        "camera.observe(update_image, names='value')"
      ],
      "execution_count": 0,
      "outputs": []
    },
    {
      "cell_type": "markdown",
      "metadata": {
        "id": "lOrDB80Gl02x",
        "colab_type": "text"
      },
      "source": [
        "If you move something in front of the camera, you should now see the live video stream in the widget. To stop it, unattach the callback with the `unobserve` method."
      ]
    },
    {
      "cell_type": "code",
      "metadata": {
        "id": "QtXKtWjsl02y",
        "colab_type": "code",
        "colab": {}
      },
      "source": [
        "camera.unobserve(update_image, names='value')"
      ],
      "execution_count": 0,
      "outputs": []
    },
    {
      "cell_type": "markdown",
      "metadata": {
        "id": "smiC3HRvl021",
        "colab_type": "text"
      },
      "source": [
        "<div style=\"border:2px solid black; background-color:#e3ffb3; font-size:12px; padding:8px; margin-top: auto;\"><i>\n",
        "    <h4><i>Tip</i></h4>\n",
        "You can move the widgets (or any cell) to new window tabs in JupyterLab by right-clicking the cell and selecting \"Create New View for Output\". This way, you can continue to scroll down the JupyterLab notebook and still see the camera view!\n",
        "    </i></div>"
      ]
    },
    {
      "cell_type": "markdown",
      "metadata": {
        "id": "t994ygOQl022",
        "colab_type": "text"
      },
      "source": [
        "### Another way to view the image stream\n",
        "You can also use the traitlets `dlink` method to connect the camera to the widget, using a transform as one of the parameters.  This eliminates some steps in the process."
      ]
    },
    {
      "cell_type": "code",
      "metadata": {
        "id": "kT1kQ6hjl023",
        "colab_type": "code",
        "colab": {}
      },
      "source": [
        "import traitlets\n",
        "\n",
        "camera_link = traitlets.dlink((camera, 'value'), (image_widget, 'value'), transform=bgr8_to_jpeg)"
      ],
      "execution_count": 0,
      "outputs": []
    },
    {
      "cell_type": "markdown",
      "metadata": {
        "id": "3yeEjq6sl026",
        "colab_type": "text"
      },
      "source": [
        "You can remove the camera/widget link with the `unlink` method."
      ]
    },
    {
      "cell_type": "code",
      "metadata": {
        "id": "aYRSZixxl026",
        "colab_type": "code",
        "colab": {}
      },
      "source": [
        "camera_link.unlink()"
      ],
      "execution_count": 0,
      "outputs": []
    },
    {
      "cell_type": "markdown",
      "metadata": {
        "id": "6k-n4ViDl029",
        "colab_type": "text"
      },
      "source": [
        "... and reconnect it again with `link`."
      ]
    },
    {
      "cell_type": "code",
      "metadata": {
        "id": "Nx2_l5q6l02-",
        "colab_type": "code",
        "colab": {}
      },
      "source": [
        "camera_link.link()"
      ],
      "execution_count": 0,
      "outputs": []
    },
    {
      "cell_type": "markdown",
      "metadata": {
        "id": "PBwABhs1l03A",
        "colab_type": "text"
      },
      "source": [
        "## Shut down the kernel of this notebook to release the camera resource. \n",
        "Return to the DLI course pages for the next instructions."
      ]
    },
    {
      "cell_type": "markdown",
      "metadata": {
        "id": "YOoxUXZel03B",
        "colab_type": "text"
      },
      "source": [
        "<div style=\"border:2px solid black; background-color:#e3ffb3; font-size:12px; padding:8px; margin-top: auto;\"><i>\n",
        "    <h4><i>Tip</i></h4>\n",
        "<p>There can only be one instance of CSICamera or USBCamera at a time.  If you want to create a new camera instance, you must first release the existing one. To do so, shut down the notebook's kernel from the JupyterLab pull-down menu: <strong>Kernel->Shutdown Kernel</strong>, then restart it with <strong>Kernel->Restart Kernel</strong>.</p>\n",
        "    <p> If the camera setup appears \"stuck\" or the images \"frozen\", follow these steps:\n",
        "    <ol><li>Shut down the notebook kernel as explained above</li>\n",
        "        <li>Open a terminal on the Jetson Nano by clicking the \"Terminal\" icon on the \"Launch\" page</li>\n",
        "        <li>Enter the following command in the terminal window:  <code>sudo systemctl restart nvargus-daemon</code> with password:<code>dlinano</code> </li>\n",
        "    </ol>\n",
        "    </i></div>"
      ]
    },
    {
      "cell_type": "markdown",
      "metadata": {
        "id": "JBZWHbHql03C",
        "colab_type": "text"
      },
      "source": [
        "<center><img src=\"../images/DLI Header.png\" alt=\"Header\" style=\"width: 400px;\"/></center>"
      ]
    }
  ]
}